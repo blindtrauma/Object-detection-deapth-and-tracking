{
 "cells": [
  {
   "cell_type": "code",
   "execution_count": 1,
   "metadata": {},
   "outputs": [
    {
     "ename": "ImportError",
     "evalue": "cannot import name 'voice_based_commands_and_ai_interaction' from 'functionalities.functionalities_definition' (d:\\object_detection_prototype\\functionalities\\functionalities_definition.py)",
     "output_type": "error",
     "traceback": [
      "\u001b[1;31m---------------------------------------------------------------------------\u001b[0m",
      "\u001b[1;31mImportError\u001b[0m                               Traceback (most recent call last)",
      "Cell \u001b[1;32mIn[1], line 2\u001b[0m\n\u001b[0;32m      1\u001b[0m \u001b[38;5;28;01mfrom\u001b[39;00m \u001b[38;5;21;01msummon_logic\u001b[39;00m\u001b[38;5;21;01m.\u001b[39;00m\u001b[38;5;21;01maudio_processing\u001b[39;00m \u001b[38;5;28;01mimport\u001b[39;00m process_voice_command\n\u001b[1;32m----> 2\u001b[0m \u001b[38;5;28;01mfrom\u001b[39;00m \u001b[38;5;21;01mfunctionalities\u001b[39;00m\u001b[38;5;21;01m.\u001b[39;00m\u001b[38;5;21;01mexecution\u001b[39;00m \u001b[38;5;28;01mimport\u001b[39;00m match_command\n\u001b[0;32m      3\u001b[0m \u001b[38;5;28;01mfrom\u001b[39;00m \u001b[38;5;21;01mfunctionalities\u001b[39;00m\u001b[38;5;21;01m.\u001b[39;00m\u001b[38;5;21;01mfunctionalities_definition\u001b[39;00m \u001b[38;5;28;01mimport\u001b[39;00m ai_image_analysis_and_summary,ai_studio,annotation_from_experts,ar_sign_reading,job_management_and_safety_checks,voice_based_commands_and_ai_interaction, qr_bar_code_scanner\n\u001b[0;32m      6\u001b[0m textt \u001b[38;5;241m=\u001b[39m process_voice_command()\n",
      "File \u001b[1;32md:\\object_detection_prototype\\functionalities\\execution.py:4\u001b[0m\n\u001b[0;32m      2\u001b[0m \u001b[38;5;28;01mfrom\u001b[39;00m \u001b[38;5;21;01msummon_logic\u001b[39;00m\u001b[38;5;21;01m.\u001b[39;00m\u001b[38;5;21;01maudio_processing\u001b[39;00m \u001b[38;5;28;01mimport\u001b[39;00m process_voice_command\n\u001b[0;32m      3\u001b[0m \u001b[38;5;28;01mfrom\u001b[39;00m \u001b[38;5;21;01mutils\u001b[39;00m\u001b[38;5;21;01m.\u001b[39;00m\u001b[38;5;21;01mload_func\u001b[39;00m \u001b[38;5;28;01mimport\u001b[39;00m load_json_file\n\u001b[1;32m----> 4\u001b[0m \u001b[38;5;28;01mfrom\u001b[39;00m \u001b[38;5;21;01mfunctionalities\u001b[39;00m\u001b[38;5;21;01m.\u001b[39;00m\u001b[38;5;21;01mfunctionalities_definition\u001b[39;00m \u001b[38;5;28;01mimport\u001b[39;00m ai_image_analysis_and_summary,ai_studio,annotation_from_experts,ar_sign_reading,job_management_and_safety_checks,voice_based_commands_and_ai_interaction, qr_bar_code_scanner\n\u001b[0;32m      7\u001b[0m \u001b[38;5;66;03m# file_name = r'functionalities/functionality.json'\u001b[39;00m\n\u001b[0;32m      8\u001b[0m \u001b[38;5;66;03m# functionality_file = load_json_file(file_name)\u001b[39;00m\n\u001b[0;32m      9\u001b[0m \u001b[38;5;66;03m# user_commands = functionality_file.get(\"commands\", {})\u001b[39;00m\n\u001b[0;32m     11\u001b[0m \u001b[38;5;28;01mdef\u001b[39;00m \u001b[38;5;21mmatch_command\u001b[39m(text):\n",
      "\u001b[1;31mImportError\u001b[0m: cannot import name 'voice_based_commands_and_ai_interaction' from 'functionalities.functionalities_definition' (d:\\object_detection_prototype\\functionalities\\functionalities_definition.py)"
     ]
    }
   ],
   "source": [
    "from summon_logic.audio_processing import process_voice_command\n",
    "from functionalities.execution import match_command\n",
    "from functionalities.functionalities_definition import ai_image_analysis_and_summary,ai_studio,annotation_from_experts,ar_sign_reading,job_management_and_safety_checks,voice_based_commands_and_ai_interaction, qr_bar_code_scanner\n",
    "\n",
    "\n",
    "textt = process_voice_command()\n",
    "a, b = match_command(textt)\n",
    "print(a, b)\n",
    "\n",
    "\n",
    "\n",
    "\n",
    "\n",
    "\n",
    "\n",
    "\n",
    "\n",
    "\n",
    "\n"
   ]
  },
  {
   "cell_type": "code",
   "execution_count": null,
   "metadata": {},
   "outputs": [
    {
     "ename": "ModuleNotFoundError",
     "evalue": "Module langchain_community.document_loaders not found. Please install langchain-community to access this module. You can install it using `pip install -U langchain-community`",
     "output_type": "error",
     "traceback": [
      "\u001b[1;31m---------------------------------------------------------------------------\u001b[0m",
      "\u001b[1;31mModuleNotFoundError\u001b[0m                       Traceback (most recent call last)",
      "File \u001b[1;32md:\\object_detection_prototype\\env\\Lib\\site-packages\\langchain\\_api\\module_import.py:69\u001b[0m, in \u001b[0;36mcreate_importer.<locals>.import_by_name\u001b[1;34m(name)\u001b[0m\n\u001b[0;32m     68\u001b[0m \u001b[38;5;28;01mtry\u001b[39;00m:\n\u001b[1;32m---> 69\u001b[0m     module \u001b[38;5;241m=\u001b[39m \u001b[43mimportlib\u001b[49m\u001b[38;5;241;43m.\u001b[39;49m\u001b[43mimport_module\u001b[49m\u001b[43m(\u001b[49m\u001b[43mnew_module\u001b[49m\u001b[43m)\u001b[49m\n\u001b[0;32m     70\u001b[0m \u001b[38;5;28;01mexcept\u001b[39;00m \u001b[38;5;167;01mModuleNotFoundError\u001b[39;00m \u001b[38;5;28;01mas\u001b[39;00m e:\n",
      "File \u001b[1;32m~\\AppData\\Local\\Programs\\Python\\Python312\\Lib\\importlib\\__init__.py:90\u001b[0m, in \u001b[0;36mimport_module\u001b[1;34m(name, package)\u001b[0m\n\u001b[0;32m     89\u001b[0m         level \u001b[38;5;241m+\u001b[39m\u001b[38;5;241m=\u001b[39m \u001b[38;5;241m1\u001b[39m\n\u001b[1;32m---> 90\u001b[0m \u001b[38;5;28;01mreturn\u001b[39;00m \u001b[43m_bootstrap\u001b[49m\u001b[38;5;241;43m.\u001b[39;49m\u001b[43m_gcd_import\u001b[49m\u001b[43m(\u001b[49m\u001b[43mname\u001b[49m\u001b[43m[\u001b[49m\u001b[43mlevel\u001b[49m\u001b[43m:\u001b[49m\u001b[43m]\u001b[49m\u001b[43m,\u001b[49m\u001b[43m \u001b[49m\u001b[43mpackage\u001b[49m\u001b[43m,\u001b[49m\u001b[43m \u001b[49m\u001b[43mlevel\u001b[49m\u001b[43m)\u001b[49m\n",
      "File \u001b[1;32m<frozen importlib._bootstrap>:1387\u001b[0m, in \u001b[0;36m_gcd_import\u001b[1;34m(name, package, level)\u001b[0m\n",
      "File \u001b[1;32m<frozen importlib._bootstrap>:1360\u001b[0m, in \u001b[0;36m_find_and_load\u001b[1;34m(name, import_)\u001b[0m\n",
      "File \u001b[1;32m<frozen importlib._bootstrap>:1310\u001b[0m, in \u001b[0;36m_find_and_load_unlocked\u001b[1;34m(name, import_)\u001b[0m\n",
      "File \u001b[1;32m<frozen importlib._bootstrap>:488\u001b[0m, in \u001b[0;36m_call_with_frames_removed\u001b[1;34m(f, *args, **kwds)\u001b[0m\n",
      "File \u001b[1;32m<frozen importlib._bootstrap>:1387\u001b[0m, in \u001b[0;36m_gcd_import\u001b[1;34m(name, package, level)\u001b[0m\n",
      "File \u001b[1;32m<frozen importlib._bootstrap>:1360\u001b[0m, in \u001b[0;36m_find_and_load\u001b[1;34m(name, import_)\u001b[0m\n",
      "File \u001b[1;32m<frozen importlib._bootstrap>:1324\u001b[0m, in \u001b[0;36m_find_and_load_unlocked\u001b[1;34m(name, import_)\u001b[0m\n",
      "\u001b[1;31mModuleNotFoundError\u001b[0m: No module named 'langchain_community'",
      "\nThe above exception was the direct cause of the following exception:\n",
      "\u001b[1;31mModuleNotFoundError\u001b[0m                       Traceback (most recent call last)",
      "Cell \u001b[1;32mIn[1], line 1\u001b[0m\n\u001b[1;32m----> 1\u001b[0m \u001b[38;5;28;01mfrom\u001b[39;00m \u001b[38;5;21;01mlangchain\u001b[39;00m\u001b[38;5;21;01m.\u001b[39;00m\u001b[38;5;21;01mdocument_loaders\u001b[39;00m \u001b[38;5;28;01mimport\u001b[39;00m PyPDFLoader\n\u001b[0;32m      2\u001b[0m \u001b[38;5;28;01mfrom\u001b[39;00m \u001b[38;5;21;01mlangchain\u001b[39;00m\u001b[38;5;21;01m.\u001b[39;00m\u001b[38;5;21;01mtext_splitter\u001b[39;00m \u001b[38;5;28;01mimport\u001b[39;00m RecursiveCharacterTextSplitter\n",
      "File \u001b[1;32md:\\object_detection_prototype\\env\\Lib\\site-packages\\langchain\\document_loaders\\__init__.py:379\u001b[0m, in \u001b[0;36m__getattr__\u001b[1;34m(name)\u001b[0m\n\u001b[0;32m    377\u001b[0m \u001b[38;5;28;01mdef\u001b[39;00m \u001b[38;5;21m__getattr__\u001b[39m(name: \u001b[38;5;28mstr\u001b[39m) \u001b[38;5;241m-\u001b[39m\u001b[38;5;241m>\u001b[39m Any:\n\u001b[0;32m    378\u001b[0m \u001b[38;5;250m    \u001b[39m\u001b[38;5;124;03m\"\"\"Look up attributes dynamically.\"\"\"\u001b[39;00m\n\u001b[1;32m--> 379\u001b[0m     \u001b[38;5;28;01mreturn\u001b[39;00m \u001b[43m_import_attribute\u001b[49m\u001b[43m(\u001b[49m\u001b[43mname\u001b[49m\u001b[43m)\u001b[49m\n",
      "File \u001b[1;32md:\\object_detection_prototype\\env\\Lib\\site-packages\\langchain\\_api\\module_import.py:72\u001b[0m, in \u001b[0;36mcreate_importer.<locals>.import_by_name\u001b[1;34m(name)\u001b[0m\n\u001b[0;32m     70\u001b[0m \u001b[38;5;28;01mexcept\u001b[39;00m \u001b[38;5;167;01mModuleNotFoundError\u001b[39;00m \u001b[38;5;28;01mas\u001b[39;00m e:\n\u001b[0;32m     71\u001b[0m     \u001b[38;5;28;01mif\u001b[39;00m new_module\u001b[38;5;241m.\u001b[39mstartswith(\u001b[38;5;124m\"\u001b[39m\u001b[38;5;124mlangchain_community\u001b[39m\u001b[38;5;124m\"\u001b[39m):\n\u001b[1;32m---> 72\u001b[0m         \u001b[38;5;28;01mraise\u001b[39;00m \u001b[38;5;167;01mModuleNotFoundError\u001b[39;00m(\n\u001b[0;32m     73\u001b[0m             \u001b[38;5;124mf\u001b[39m\u001b[38;5;124m\"\u001b[39m\u001b[38;5;124mModule \u001b[39m\u001b[38;5;132;01m{\u001b[39;00mnew_module\u001b[38;5;132;01m}\u001b[39;00m\u001b[38;5;124m not found. \u001b[39m\u001b[38;5;124m\"\u001b[39m\n\u001b[0;32m     74\u001b[0m             \u001b[38;5;124m\"\u001b[39m\u001b[38;5;124mPlease install langchain-community to access this module. \u001b[39m\u001b[38;5;124m\"\u001b[39m\n\u001b[0;32m     75\u001b[0m             \u001b[38;5;124m\"\u001b[39m\u001b[38;5;124mYou can install it using `pip install -U langchain-community`\u001b[39m\u001b[38;5;124m\"\u001b[39m\n\u001b[0;32m     76\u001b[0m         ) \u001b[38;5;28;01mfrom\u001b[39;00m \u001b[38;5;21;01me\u001b[39;00m\n\u001b[0;32m     77\u001b[0m     \u001b[38;5;28;01mraise\u001b[39;00m\n\u001b[0;32m     79\u001b[0m \u001b[38;5;28;01mtry\u001b[39;00m:\n",
      "\u001b[1;31mModuleNotFoundError\u001b[0m: Module langchain_community.document_loaders not found. Please install langchain-community to access this module. You can install it using `pip install -U langchain-community`"
     ]
    }
   ],
   "source": [
    "# def update_object_movement(track_id, x, y, frame_num):\n",
    "#     current_time = time.time()\n",
    "#     movement_detected = False  # Flag to indicate movement status\n",
    "    \n",
    "#     if track_id not in object_movement_data:\n",
    "#         object_movement_data[track_id] = {\n",
    "#             \"start_position\": (x, y),\n",
    "#             \"start_frame\": frame_num,\n",
    "#             \"last_position\": (x, y),\n",
    "#             \"last_movement_time\": current_time,\n",
    "#             \"stationary_time\": 0\n",
    "#         }\n",
    "#     else:\n",
    "#         movement = object_movement_data[track_id]\n",
    "#         last_x, last_y = movement[\"last_position\"]\n",
    "#         distance = ((x - last_x) ** 2 + (y - last_y) ** 2) ** 0.5\n",
    "\n",
    "#         if distance < MOVEMENT_THRESHOLD:\n",
    "#             movement[\"stationary_time\"] += current_time - movement[\"last_movement_time\"]\n",
    "#             if movement[\"stationary_time\"] >= STATIONARY_THRESHOLD:\n",
    "#                 movement[\"start_position\"] = (x, y)\n",
    "#                 movement[\"start_frame\"] = frame_num\n",
    "#                 movement[\"stationary_time\"] = 0\n",
    "#         else:\n",
    "#             movement[\"stationary_time\"] = 0\n",
    "#             movement_detected = True  # Movement detected if distance > threshold\n",
    "\n",
    "#         movement[\"last_position\"] = (x, y)\n",
    "#         movement[\"last_movement_time\"] = current_time\n",
    "\n",
    "#     return movement_detected\n",
    "\n",
    "\n",
    "# def draw_tracking(frame, track, movement_detected=False):\n",
    "#     x1, y1, w, h = map(int, track.to_tlwh())\n",
    "#     x2, y2 = x1 + w, y1 + h\n",
    "#     track_id = track.track_id\n",
    "#     cv2.rectangle(frame, (x1, y1), (x2, y2), (0, 255, 0), 2)\n",
    "#     overlay = frame.copy()\n",
    "#     cv2.rectangle(overlay, (x1, y1 - 30), (x2, y1), (0, 255, 0), -1)\n",
    "#     frame = cv2.addWeighted(overlay, 0.6, frame, 0.4, 0)\n",
    "#     cv2.putText(frame, f\"Track ID: {track_id}\", (x1, y1 - 10),\n",
    "#                 cv2.FONT_HERSHEY_SIMPLEX, 0.5, (255, 255, 255), 1)\n",
    "    \n",
    "#     # Display \"Movement Detected\" message if movement is detected\n",
    "#     if movement_detected:\n",
    "#         cv2.putText(frame, \"Movement Detected\", (50, 50), \n",
    "#                     cv2.FONT_HERSHEY_SIMPLEX, 1.0, (0, 0, 255), 2)\n",
    "#     return frame"
   ]
  },
  {
   "cell_type": "code",
   "execution_count": null,
   "metadata": {},
   "outputs": [],
   "source": [
    "                    # if keyboard.is_pressed('space'):\n",
    "                    #     print(\"Space key pressed, executing terminal_task...\")\n",
    "                    #     terminal_task(self.current_frame_data)\n",
    "\n",
    "                    # tracked_objects = deep_sort_tracker.update_tracks(tracker_inputs, frame=frame)\n",
    "                    # for track in tracked_objects:\n",
    "                    #     if not track.is_confirmed() or track.time_since_update > 1:\n",
    "                    #         continue\n",
    "\n",
    "                    #     x1, y1, w, h = map(int, track.to_tlwh())\n",
    "                    #     movement_detected = update_object_movement(track.track_id, x1, y1, frame)\n",
    "                    #     # update_object_movement(track.track_id, x1, y1, frame)\n",
    "                    #     frame = draw_tracking(frame, track, movement_detected)"
   ]
  }
 ],
 "metadata": {
  "kernelspec": {
   "display_name": "env",
   "language": "python",
   "name": "python3"
  },
  "language_info": {
   "codemirror_mode": {
    "name": "ipython",
    "version": 3
   },
   "file_extension": ".py",
   "mimetype": "text/x-python",
   "name": "python",
   "nbconvert_exporter": "python",
   "pygments_lexer": "ipython3",
   "version": "3.12.6"
  }
 },
 "nbformat": 4,
 "nbformat_minor": 2
}
